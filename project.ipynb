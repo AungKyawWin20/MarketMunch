{
 "cells": [
  {
   "cell_type": "markdown",
   "metadata": {},
   "source": [
    "Main Questions:\n",
    "\n",
    "- Which U.S. state has the best market conditions for a new restaurant or takeout business?\n",
    "\n",
    "- What type of restaurant (eg., fast food, casual dining, fine dining, ethnic cuisine) has the highestr success rate?\n",
    "\n",
    "- What demographic, economic and consumer behavior factors influence restaurant success?"
   ]
  },
  {
   "cell_type": "markdown",
   "metadata": {},
   "source": [
    "US Population Data (By State) ~ 2020 to 2024"
   ]
  },
  {
   "cell_type": "code",
   "execution_count": 2,
   "metadata": {},
   "outputs": [],
   "source": [
    "#importing necessary libraries\n",
    "\n",
    "import pandas as pd\n",
    "import matplotlib.pyplot as plt\n",
    "import seaborn as sns\n",
    "import os\n",
    "import time\n",
    "import json\n",
    "from serpapi import GoogleSearch\n",
    "from tqdm import tqdm"
   ]
  },
  {
   "cell_type": "code",
   "execution_count": null,
   "metadata": {},
   "outputs": [],
   "source": [
    "#Loading the dataset\n",
    "df = pd.read_csv('Datasets/Population Data (2020-2024).csv')\n",
    "\n",
    "df.head()"
   ]
  },
  {
   "cell_type": "code",
   "execution_count": null,
   "metadata": {},
   "outputs": [],
   "source": [
    "#Dropping unnecessary rows\n",
    "\n",
    "#df = df.drop(index=list(range(0, 13)))\n",
    "#df = df.drop(index = 13)\n",
    "\n",
    "df.head()"
   ]
  },
  {
   "cell_type": "code",
   "execution_count": null,
   "metadata": {},
   "outputs": [],
   "source": [
    "#Plotting the population by state and selecting the top 5 states\n",
    "\n",
    "#Extracting state names and population estimates for 2024\n",
    "states = df[\"NAME\"]\n",
    "pop_est = df[\"POPESTIMATE2023\"]\n",
    "top_states = pop_est.nlargest(5).index #index of top 5 states\n",
    "toppop_est = pop_est[top_states] #Population values of top 5 states\n",
    "top_states_names = states[top_states] #State names\n",
    "\n",
    "#plot the data\n",
    "plt.figure(figsize=(12, 6))\n",
    "plt.barh(top_states_names, toppop_est, color=\"skyblue\")\n",
    "plt.xlabel(\"Population Estimate (2023)\")\n",
    "plt.ylabel(\"State\")\n",
    "plt.title(\"Population Estimates for US States in 2023\")\n",
    "plt.gca().invert_yaxis()  # Invert y-axis for better readability\n",
    "plt.show()"
   ]
  },
  {
   "cell_type": "code",
   "execution_count": null,
   "metadata": {},
   "outputs": [],
   "source": [
    "#Top 5 States with Highest Consumer Spending Amounts\n",
    "\n",
    "cs_df = pd.read_excel('Datasets/pce1024.xlsx')\n",
    "\n",
    "cs_df.head()"
   ]
  },
  {
   "cell_type": "code",
   "execution_count": null,
   "metadata": {},
   "outputs": [],
   "source": [
    "# Load the dataset for all three states (replace with your file paths)\n",
    "california_df = pd.read_csv('Datasets/SAINC70_CA_2000_2023.csv')\n",
    "texas_df = pd.read_csv('Datasets/SAINC70_TX_2000_2023.csv')\n",
    "florida_df = pd.read_csv('Datasets/SAINC70_FL_2000_2023.csv')\n",
    "\n",
    "# Define the years and categories you are interested in\n",
    "years = ['2019', '2020', '2021', '2022', '2023']\n",
    "categories = ['Current receipts, accrual basis ']\n",
    "\n",
    "# Create a plot\n",
    "plt.figure(figsize=(10,6))\n",
    "\n",
    "# Filter and plot data for California\n",
    "california_data = california_df[california_df[\"Description\"].isin(categories)]\n",
    "for index, row in california_data.iterrows():\n",
    "    plt.plot(years, row[years].values, label=\"California\", color='blue')\n",
    "\n",
    "# Filter and plot data for Texas\n",
    "texas_data = texas_df[texas_df[\"Description\"].isin(categories)]\n",
    "for index, row in texas_data.iterrows():\n",
    "    plt.plot(years, row[years].values, label=\"Texas\", color='green')\n",
    "\n",
    "# Filter and plot data for Florida\n",
    "florida_data = florida_df[florida_df[\"Description\"].isin(categories)]\n",
    "for index, row in florida_data.iterrows():\n",
    "    plt.plot(years, row[years].values, label=\"Florida\", color='red')\n",
    "\n",
    "# Add labels and title\n",
    "plt.xlabel('Year')\n",
    "plt.ylabel('Income (Thousands of Dollars)')\n",
    "plt.title('Income Levels Over Time for California, Texas, and Florida (2019-2023)')\n",
    "plt.legend()\n",
    "\n",
    "# Adjust the x-ticks for better readability\n",
    "plt.xticks(rotation=45)\n",
    "plt.tight_layout()\n",
    "\n",
    "# Show the plot\n",
    "plt.show()\n"
   ]
  },
  {
   "cell_type": "markdown",
   "metadata": {},
   "source": [
    "Based on the population density and the personal income levels data extracted from the US BEA(Bureau of Economic Analysis), we can say that it would be beneficial to start a food business in California."
   ]
  },
  {
   "cell_type": "markdown",
   "metadata": {},
   "source": [
    "In the next step, we will find out which type of restaurant has the most chances of succeeding in California."
   ]
  },
  {
   "cell_type": "code",
   "execution_count": 27,
   "metadata": {},
   "outputs": [],
   "source": [
    "#SERP API Key\n",
    "api_key = os.environ.get(\"serp_api\")"
   ]
  },
  {
   "cell_type": "code",
   "execution_count": 41,
   "metadata": {},
   "outputs": [],
   "source": [
    "# Define the restaurant types and California cities to search\n",
    "restaurant_types = [\"fast food\", \"casual dining\", \"ethnic food\", \"fine dining\"]\n",
    "\n",
    "# Major California cities to search in\n",
    "california_cities = [\n",
    "    \"Los Angeles\", \"San Francisco\", \"San Diego\", \"Sacramento\", \"San Jose\",\n",
    "    \"Fresno\", \"Long Beach\", \"Oakland\", \"Bakersfield\", \"Anaheim\",\n",
    "    \"Santa Ana\", \"Riverside\", \"Stockton\", \"Irvine\", \"Chula Vista\"\n",
    "]\n"
   ]
  },
  {
   "cell_type": "code",
   "execution_count": null,
   "metadata": {},
   "outputs": [],
   "source": [
    "params = {\n",
    "    \"engine\" : \"yelp\",\n",
    "    \"find_desc\" : \"casual dining\",\n",
    "    \"find_loc\" : \"Anaheim, California\",\n",
    "    \"api_key\" : api_key,\n",
    "    \"max_pages\" : 2\n",
    "}\n",
    "\n",
    "search = GoogleSearch(params)\n",
    "results = search.get_dict()\n",
    "results\n",
    "all_restaurants = []\n",
    "\n",
    "for restaurant in results.get(\"organic_results\"):\n",
    "    restaurant_data = {\n",
    "                    \"name\": restaurant.get(\"title\", \"N/A\"),\n",
    "                    \"type\": \"Casual Dining\",\n",
    "                    \"city\": \"Anaheim\",\n",
    "                    \"rating\": restaurant.get(\"rating\", \"N/A\"),\n",
    "                    \"reviews_count\": restaurant.get(\"reviews\", \"N/A\"),\n",
    "                    \"price_range\": restaurant.get(\"price\", \"N/A\"),\n",
    "                    \"link\": restaurant.get(\"link\", \"N/A\"),\n",
    "                    \"categories\": [cat.get(\"title\", \"\") for cat in restaurant.get(\"categories\", [])],\n",
    "                    \"address\": restaurant.get(\"address\", \"N/A\"),\n",
    "                    \"phone\": restaurant.get(\"phone\", \"N/A\")\n",
    "    }\n",
    "    all_restaurants.append(restaurant_data)\n",
    "    \n",
    "all_restaurants"
   ]
  },
  {
   "cell_type": "code",
   "execution_count": 42,
   "metadata": {},
   "outputs": [
    {
     "name": "stdout",
     "output_type": "stream",
     "text": [
      "Data extraction and export completed successfully!\n"
     ]
    }
   ],
   "source": [
    "# Initialize an empty list to store all restaurant data\n",
    "all_restaurants_data = []\n",
    "\n",
    "# Loop through each restaurant type and location\n",
    "for restaurant_type in restaurant_types:\n",
    "    for city in california_cities:\n",
    "        # Update the search parameters\n",
    "        params[\"find_desc\"] = restaurant_type\n",
    "        params[\"find_loc\"] = f\"{city}, California\"\n",
    "        \n",
    "        # Perform the search\n",
    "        search = GoogleSearch(params)\n",
    "        results = search.get_dict()\n",
    "        \n",
    "        # Extract restaurant data\n",
    "        for restaurant in results.get(\"organic_results\", []):\n",
    "            restaurant_data = {\n",
    "                \"name\": restaurant.get(\"title\", \"N/A\"),\n",
    "                \"type\": restaurant_type,\n",
    "                \"city\": city,\n",
    "                \"rating\": restaurant.get(\"rating\", \"N/A\"),\n",
    "                \"reviews_count\": restaurant.get(\"reviews\", \"N/A\"),\n",
    "                \"price_range\": restaurant.get(\"price\", \"N/A\"),\n",
    "                \"link\": restaurant.get(\"link\", \"N/A\"),\n",
    "                \"categories\": [cat.get(\"title\", \"\") for cat in restaurant.get(\"categories\", [])],\n",
    "                \"address\": restaurant.get(\"address\", \"N/A\"),\n",
    "                \"phone\": restaurant.get(\"phone\", \"N/A\")\n",
    "            }\n",
    "            all_restaurants_data.append(restaurant_data)\n",
    "\n",
    "# Convert the data into a DataFrame\n",
    "restaurants_df = pd.DataFrame(all_restaurants_data)\n",
    "\n",
    "# Export the data to a CSV file\n",
    "restaurants_df.to_csv(\"california_restaurants_data.csv\", index=False)\n",
    "\n",
    "print(\"Data extraction and export completed successfully!\")\n",
    "\n"
   ]
  },
  {
   "cell_type": "code",
   "execution_count": 1,
   "metadata": {},
   "outputs": [
    {
     "ename": "NameError",
     "evalue": "name 'pd' is not defined",
     "output_type": "error",
     "traceback": [
      "\u001b[1;31m---------------------------------------------------------------------------\u001b[0m",
      "\u001b[1;31mNameError\u001b[0m                                 Traceback (most recent call last)",
      "Cell \u001b[1;32mIn[1], line 1\u001b[0m\n\u001b[1;32m----> 1\u001b[0m ca_df \u001b[38;5;241m=\u001b[39m pd\u001b[38;5;241m.\u001b[39mread_csv(\u001b[38;5;124m'\u001b[39m\u001b[38;5;124mcalifornia_restaurants_data.csv\u001b[39m\u001b[38;5;124m'\u001b[39m)\n\u001b[0;32m      2\u001b[0m ca_df\u001b[38;5;241m.\u001b[39minfo()\n",
      "\u001b[1;31mNameError\u001b[0m: name 'pd' is not defined"
     ]
    }
   ],
   "source": [
    "ca_df = pd.read_csv('california_restaurants_data.csv')\n",
    "ca_df.info()"
   ]
  },
  {
   "cell_type": "code",
   "execution_count": 9,
   "metadata": {},
   "outputs": [
    {
     "data": {
      "text/plain": [
       "(               avg_rating  avg_reviews  count\n",
       " type                                         \n",
       " ethnic food      4.353333   774.333333    150\n",
       " casual dining    4.344000   971.886667    150\n",
       " fine dining      4.288667  1123.053333    150\n",
       " fast food        3.448667   703.280000    150,\n",
       "                avg_rating  avg_reviews  count\n",
       " city                                         \n",
       " San Diego          4.3075     1565.800     40\n",
       " Anaheim            4.2775     1369.525     40\n",
       " Long Beach         4.2725      869.925     40\n",
       " Fresno             4.2175      456.350     40\n",
       " San Francisco      4.1550     1107.575     40\n",
       " Los Angeles        4.1375     1589.850     40\n",
       " Stockton           4.1300      489.900     40\n",
       " Santa Ana          4.1225     1097.900     40\n",
       " San Jose           4.0600      750.900     40\n",
       " Irvine             4.0450      874.250     40\n",
       " Riverside          4.0450      705.425     40\n",
       " Oakland            4.0325      833.850     40\n",
       " Bakersfield        3.9575      420.250     40\n",
       " Chula Vista        3.9375      720.700     40\n",
       " Sacramento         3.9325      544.875     40)"
      ]
     },
     "execution_count": 9,
     "metadata": {},
     "output_type": "execute_result"
    }
   ],
   "source": [
    "# Group by restaurant type and calculate average rating & review count\n",
    "restaurant_type_analysis = ca_df.groupby(\"type\").agg(\n",
    "    avg_rating=(\"rating\", \"mean\"),\n",
    "    avg_reviews=(\"reviews_count\", \"mean\"),\n",
    "    count=(\"name\", \"count\")  # To verify sample size\n",
    ").sort_values(by=[\"avg_rating\", \"avg_reviews\"], ascending=[False, False])\n",
    "\n",
    "# Group by city and calculate the same metrics\n",
    "city_analysis = ca_df.groupby(\"city\").agg(\n",
    "    avg_rating=(\"rating\", \"mean\"),\n",
    "    avg_reviews=(\"reviews_count\", \"mean\"),\n",
    "    count=(\"name\", \"count\")\n",
    ").sort_values(by=[\"avg_rating\", \"avg_reviews\"], ascending=[False, False])\n",
    "\n",
    "restaurant_type_analysis, city_analysis\n"
   ]
  },
  {
   "cell_type": "code",
   "execution_count": null,
   "metadata": {},
   "outputs": [],
   "source": [
    "# Visualize average ratings and reviews by restaurant type\n",
    "plt.figure(figsize=(12, 6))\n",
    "\n",
    "# Bar plot for average ratings by restaurant type\n",
    "plt.subplot(1, 2, 1)\n",
    "restaurant_type_analysis[\"avg_rating\"].plot(kind=\"bar\", color=\"skyblue\", edgecolor=\"black\")\n",
    "plt.title(\"Average Ratings by Restaurant Type\")\n",
    "plt.ylabel(\"Average Rating\")\n",
    "plt.xticks(rotation=45)\n",
    "\n",
    "# Bar plot for average reviews by restaurant type\n",
    "plt.subplot(1, 2, 2)\n",
    "restaurant_type_analysis[\"avg_reviews\"].plot(kind=\"bar\", color=\"lightgreen\", edgecolor=\"black\")\n",
    "plt.title(\"Average Reviews by Restaurant Type\")\n",
    "plt.ylabel(\"Average Reviews\")\n",
    "plt.xticks(rotation=45)\n",
    "\n",
    "plt.tight_layout()\n",
    "plt.show()\n",
    "\n",
    "# Visualize average ratings and reviews by city\n",
    "plt.figure(figsize=(12, 6))\n",
    "\n",
    "# Bar plot for average ratings by city\n",
    "plt.subplot(1, 2, 1)\n",
    "city_analysis[\"avg_rating\"].plot(kind=\"bar\", color=\"coral\", edgecolor=\"black\")\n",
    "plt.title(\"Average Ratings by City\")\n",
    "plt.ylabel(\"Average Rating\")\n",
    "plt.xticks(rotation=45)\n",
    "\n",
    "# Bar plot for average reviews by city\n",
    "plt.subplot(1, 2, 2)\n",
    "city_analysis[\"avg_reviews\"].plot(kind=\"bar\", color=\"gold\", edgecolor=\"black\")\n",
    "plt.title(\"Average Reviews by City\")\n",
    "plt.ylabel(\"Average Reviews\")\n",
    "plt.xticks(rotation=45)\n",
    "\n",
    "plt.tight_layout()\n",
    "plt.show()"
   ]
  },
  {
   "cell_type": "code",
   "execution_count": null,
   "metadata": {},
   "outputs": [],
   "source": []
  },
  {
   "cell_type": "markdown",
   "metadata": {},
   "source": [
    "Next step : Narrow down on a city and the type of business\n",
    "\n",
    "Scrape the next city and business type\n",
    "\n",
    "draw some conclusions from this one california dataset"
   ]
  }
 ],
 "metadata": {
  "kernelspec": {
   "display_name": "Python 3",
   "language": "python",
   "name": "python3"
  },
  "language_info": {
   "codemirror_mode": {
    "name": "ipython",
    "version": 3
   },
   "file_extension": ".py",
   "mimetype": "text/x-python",
   "name": "python",
   "nbconvert_exporter": "python",
   "pygments_lexer": "ipython3",
   "version": "3.12.2"
  }
 },
 "nbformat": 4,
 "nbformat_minor": 2
}
